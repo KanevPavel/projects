{
  "cells": [
    {
      "cell_type": "markdown",
      "metadata": {
        "id": "UO6QWh9JKLuH"
      },
      "source": [
        "# Цель:\n",
        "Исследовать поведение пользователей в обновлённом приложении Quiz Freeze.\n",
        "\n",
        "# Задачи:\n",
        "\n",
        "**1.** Определите, насколько обучение сокращает время прохождения этапов игры.\n",
        "\n",
        "**2.** Докажите, что успешное обучение само по себе влияет на оплату и не имеет значения то, каким этапом оно шло.\n",
        "\n",
        "**3.** Проверьте, насколько прозрачен процесс взаимодействия с игрой.\n",
        "\n",
        "# Проверить следующие гипотезы:\n",
        "\n",
        "**Гипотеза 1:** Влияет ли обучение на скорость прохождения других этапов игры?\n",
        "\n",
        "**Гипотеза 2:** Влияет ли на оплату повторное обучение?\n",
        "\n",
        "**Гипотеза 3:** Если пользователь сначала выбирает сложность обучения, будет ли он потом проходить обучение?"
      ]
    },
    {
      "cell_type": "markdown",
      "metadata": {
        "id": "1WJl5cUJKLuR"
      },
      "source": [
        "# Предварительные шаги\n",
        "\n",
        "Импортируем библиотеку и исходные данные."
      ]
    },
    {
      "cell_type": "code",
      "execution_count": null,
      "metadata": {
        "id": "NHMqvXJ5KLuS"
      },
      "outputs": [],
      "source": [
        "import pandas as pd\n",
        "events_df = pd.read_csv('data/7_4_Events.csv', sep=',')\n",
        "purchase_df = pd.read_csv('data/purchase.csv', sep=',')"
      ]
    },
    {
      "cell_type": "markdown",
      "metadata": {
        "id": "IxvC-MdKKLuU"
      },
      "source": [
        "Отфильтруем базы данных и оставим только пользователей зарегистрированных в 2018 году. Скорректируем форматы дат:"
      ]
    },
    {
      "cell_type": "code",
      "execution_count": null,
      "metadata": {
        "id": "HRJc42sqKLuU"
      },
      "outputs": [],
      "source": [
        "# Преобразуем даты в формат datetime.\n",
        "events_df['start_time'] = pd.to_datetime(events_df['start_time'], errors='coerce')\n",
        "purchase_df['event_datetime'] = pd.to_datetime(purchase_df['event_datetime'])\n",
        "\n",
        "\n",
        "# Cоздаем список пользователей, зарегистрировавшихся в 2018 году.\n",
        "cond_1 = events_df['event_type'] == 'registration'\n",
        "cond_2 = events_df['start_time'] >= '2018-01-01'\n",
        "cond_3 = events_df['start_time'] < '2019-01-01'\n",
        "registered_in_2018 = events_df[cond_1 & cond_2 & cond_3]['user_id'].to_list()\n",
        "\n",
        "\n",
        "# Сставляем в таблицах только нужные записи.\n",
        "events_df = events_df[events_df['user_id'].isin(registered_in_2018)]\n",
        "purchase_df = purchase_df[purchase_df['user_id'].isin(registered_in_2018)]"
      ]
    },
    {
      "cell_type": "markdown",
      "metadata": {
        "id": "AFT0xqMnKLuV"
      },
      "source": [
        "Объединим датафреймы событий и оплат:"
      ]
    },
    {
      "cell_type": "code",
      "execution_count": null,
      "metadata": {
        "id": "wT-YCKL2KLuW",
        "outputId": "24eddc89-ed75-46cb-e3b1-77764d338042"
      },
      "outputs": [
        {
          "data": {
            "text/html": [
              "<div>\n",
              "<style scoped>\n",
              "    .dataframe tbody tr th:only-of-type {\n",
              "        vertical-align: middle;\n",
              "    }\n",
              "\n",
              "    .dataframe tbody tr th {\n",
              "        vertical-align: top;\n",
              "    }\n",
              "\n",
              "    .dataframe thead th {\n",
              "        text-align: right;\n",
              "    }\n",
              "</style>\n",
              "<table border=\"1\" class=\"dataframe\">\n",
              "  <thead>\n",
              "    <tr style=\"text-align: right;\">\n",
              "      <th></th>\n",
              "      <th>event_id</th>\n",
              "      <th>event_type</th>\n",
              "      <th>selected_level</th>\n",
              "      <th>event_datetime</th>\n",
              "      <th>tutorial_id</th>\n",
              "      <th>user_id</th>\n",
              "      <th>purchase_id</th>\n",
              "      <th>amount</th>\n",
              "    </tr>\n",
              "  </thead>\n",
              "  <tbody>\n",
              "    <tr>\n",
              "      <th>0</th>\n",
              "      <td>80308.0</td>\n",
              "      <td>registration</td>\n",
              "      <td>NaN</td>\n",
              "      <td>2018-01-01 03:48:40</td>\n",
              "      <td>NaN</td>\n",
              "      <td>27832</td>\n",
              "      <td>NaN</td>\n",
              "      <td>NaN</td>\n",
              "    </tr>\n",
              "    <tr>\n",
              "      <th>1</th>\n",
              "      <td>80309.0</td>\n",
              "      <td>registration</td>\n",
              "      <td>NaN</td>\n",
              "      <td>2018-01-01 04:07:25</td>\n",
              "      <td>NaN</td>\n",
              "      <td>27833</td>\n",
              "      <td>NaN</td>\n",
              "      <td>NaN</td>\n",
              "    </tr>\n",
              "    <tr>\n",
              "      <th>2</th>\n",
              "      <td>80310.0</td>\n",
              "      <td>registration</td>\n",
              "      <td>NaN</td>\n",
              "      <td>2018-01-01 08:35:10</td>\n",
              "      <td>NaN</td>\n",
              "      <td>27834</td>\n",
              "      <td>NaN</td>\n",
              "      <td>NaN</td>\n",
              "    </tr>\n",
              "    <tr>\n",
              "      <th>3</th>\n",
              "      <td>80311.0</td>\n",
              "      <td>registration</td>\n",
              "      <td>NaN</td>\n",
              "      <td>2018-01-01 11:54:47</td>\n",
              "      <td>NaN</td>\n",
              "      <td>27835</td>\n",
              "      <td>NaN</td>\n",
              "      <td>NaN</td>\n",
              "    </tr>\n",
              "    <tr>\n",
              "      <th>4</th>\n",
              "      <td>80312.0</td>\n",
              "      <td>registration</td>\n",
              "      <td>NaN</td>\n",
              "      <td>2018-01-01 13:28:07</td>\n",
              "      <td>NaN</td>\n",
              "      <td>27836</td>\n",
              "      <td>NaN</td>\n",
              "      <td>NaN</td>\n",
              "    </tr>\n",
              "  </tbody>\n",
              "</table>\n",
              "</div>"
            ],
            "text/plain": [
              "   event_id    event_type selected_level      event_datetime  tutorial_id  \\\n",
              "0   80308.0  registration            NaN 2018-01-01 03:48:40          NaN   \n",
              "1   80309.0  registration            NaN 2018-01-01 04:07:25          NaN   \n",
              "2   80310.0  registration            NaN 2018-01-01 08:35:10          NaN   \n",
              "3   80311.0  registration            NaN 2018-01-01 11:54:47          NaN   \n",
              "4   80312.0  registration            NaN 2018-01-01 13:28:07          NaN   \n",
              "\n",
              "   user_id  purchase_id  amount  \n",
              "0    27832          NaN     NaN  \n",
              "1    27833          NaN     NaN  \n",
              "2    27834          NaN     NaN  \n",
              "3    27835          NaN     NaN  \n",
              "4    27836          NaN     NaN  "
            ]
          },
          "execution_count": 251,
          "metadata": {},
          "output_type": "execute_result"
        }
      ],
      "source": [
        "# Добавим в датафрейм purchase_df столбец event_type, чтобы\n",
        "# однозначно выделить события оплаты в объединенном датафрейме.\n",
        "purchase_df['event_type'] = 'purchase'\n",
        "\n",
        "# Переименуем столбцы с одинакомыми названиями.\n",
        "events_df = events_df.rename(columns={'id': 'event_id'})\n",
        "purchase_df = purchase_df.rename(columns={'id': 'purchase_id'})\n",
        "\n",
        "# Также переименуем столбец start_time, чтобы время покупок и остальных событий были в одном столбце.\n",
        "events_df = events_df.rename(columns={'start_time': 'event_datetime'})\n",
        "\n",
        "#Объединими датафреймы.\n",
        "total_events_df = pd.concat([events_df, purchase_df], sort=False)\n",
        "\n",
        "#Сбросим индексы нового датафрейма и отсортируем события по времени.\n",
        "total_events_df = total_events_df.reset_index(drop=True).sort_values('event_datetime')\n",
        "\n",
        "total_events_df.head()"
      ]
    },
    {
      "cell_type": "markdown",
      "metadata": {
        "id": "dF4xlARlKLuY"
      },
      "source": [
        "# Проверка гипотезы 1.\n",
        "\n",
        "***Влияет ли обучение на скорость прохождения других этапов игры?***\n",
        "\n",
        "Чтобы узнать это, необходимо сравнить время прохождения различных этапов для пользователей, которые завершили обучение, и пользователей, не начинавших обучение. Если показатель отличается, выяснить насколько.\n"
      ]
    },
    {
      "cell_type": "code",
      "execution_count": null,
      "metadata": {
        "id": "VAbtQCTxKLuZ"
      },
      "outputs": [],
      "source": [
        "# Найдем группу пользователей, завершивших обучение.\n",
        "users_finished_tutorial = total_events_df[\n",
        "    total_events_df['event_type'] == 'tutorial_finish']['user_id'].unique()\n",
        "set_users_finished_tutorial = set(users_finished_tutorial)\n",
        "\n",
        "# Найдем группу пользователей, не начинавших обучение.\n",
        "# Для этого вычтем из всех пользователей тех, кто начинал обучение.\n",
        "all_users = total_events_df['user_id'].unique()\n",
        "set_all_users = set(all_users)\n",
        "\n",
        "users_started_tutorial = total_events_df[\n",
        "    total_events_df['event_type'] == 'tutorial_start']['user_id'].unique()\n",
        "set_users_started_tutorial = set(users_started_tutorial)\n",
        "\n",
        "set_users_without_tutorial = set_all_users.difference(set_users_started_tutorial)"
      ]
    },
    {
      "cell_type": "code",
      "execution_count": null,
      "metadata": {
        "id": "rbDo72KVKLua",
        "outputId": "8dbcd845-40fc-462d-cca6-0e121260716b"
      },
      "outputs": [
        {
          "data": {
            "text/html": [
              "<div>\n",
              "<style scoped>\n",
              "    .dataframe tbody tr th:only-of-type {\n",
              "        vertical-align: middle;\n",
              "    }\n",
              "\n",
              "    .dataframe tbody tr th {\n",
              "        vertical-align: top;\n",
              "    }\n",
              "\n",
              "    .dataframe thead th {\n",
              "        text-align: right;\n",
              "    }\n",
              "</style>\n",
              "<table border=\"1\" class=\"dataframe\">\n",
              "  <thead>\n",
              "    <tr style=\"text-align: right;\">\n",
              "      <th></th>\n",
              "      <th>event_id</th>\n",
              "      <th>event_type</th>\n",
              "      <th>selected_level</th>\n",
              "      <th>event_datetime</th>\n",
              "      <th>tutorial_id</th>\n",
              "      <th>user_id</th>\n",
              "      <th>purchase_id</th>\n",
              "      <th>amount</th>\n",
              "      <th>user_group</th>\n",
              "    </tr>\n",
              "  </thead>\n",
              "  <tbody>\n",
              "    <tr>\n",
              "      <th>0</th>\n",
              "      <td>80308.0</td>\n",
              "      <td>registration</td>\n",
              "      <td>NaN</td>\n",
              "      <td>2018-01-01 03:48:40</td>\n",
              "      <td>NaN</td>\n",
              "      <td>27832</td>\n",
              "      <td>NaN</td>\n",
              "      <td>NaN</td>\n",
              "      <td>without_tutorial</td>\n",
              "    </tr>\n",
              "    <tr>\n",
              "      <th>1</th>\n",
              "      <td>80309.0</td>\n",
              "      <td>registration</td>\n",
              "      <td>NaN</td>\n",
              "      <td>2018-01-01 04:07:25</td>\n",
              "      <td>NaN</td>\n",
              "      <td>27833</td>\n",
              "      <td>NaN</td>\n",
              "      <td>NaN</td>\n",
              "      <td>finished_tutorial</td>\n",
              "    </tr>\n",
              "    <tr>\n",
              "      <th>2</th>\n",
              "      <td>80310.0</td>\n",
              "      <td>registration</td>\n",
              "      <td>NaN</td>\n",
              "      <td>2018-01-01 08:35:10</td>\n",
              "      <td>NaN</td>\n",
              "      <td>27834</td>\n",
              "      <td>NaN</td>\n",
              "      <td>NaN</td>\n",
              "      <td>finished_tutorial</td>\n",
              "    </tr>\n",
              "    <tr>\n",
              "      <th>3</th>\n",
              "      <td>80311.0</td>\n",
              "      <td>registration</td>\n",
              "      <td>NaN</td>\n",
              "      <td>2018-01-01 11:54:47</td>\n",
              "      <td>NaN</td>\n",
              "      <td>27835</td>\n",
              "      <td>NaN</td>\n",
              "      <td>NaN</td>\n",
              "      <td>finished_tutorial</td>\n",
              "    </tr>\n",
              "    <tr>\n",
              "      <th>4</th>\n",
              "      <td>80312.0</td>\n",
              "      <td>registration</td>\n",
              "      <td>NaN</td>\n",
              "      <td>2018-01-01 13:28:07</td>\n",
              "      <td>NaN</td>\n",
              "      <td>27836</td>\n",
              "      <td>NaN</td>\n",
              "      <td>NaN</td>\n",
              "      <td>finished_tutorial</td>\n",
              "    </tr>\n",
              "  </tbody>\n",
              "</table>\n",
              "</div>"
            ],
            "text/plain": [
              "   event_id    event_type selected_level      event_datetime  tutorial_id  \\\n",
              "0   80308.0  registration            NaN 2018-01-01 03:48:40          NaN   \n",
              "1   80309.0  registration            NaN 2018-01-01 04:07:25          NaN   \n",
              "2   80310.0  registration            NaN 2018-01-01 08:35:10          NaN   \n",
              "3   80311.0  registration            NaN 2018-01-01 11:54:47          NaN   \n",
              "4   80312.0  registration            NaN 2018-01-01 13:28:07          NaN   \n",
              "\n",
              "   user_id  purchase_id  amount         user_group  \n",
              "0    27832          NaN     NaN   without_tutorial  \n",
              "1    27833          NaN     NaN  finished_tutorial  \n",
              "2    27834          NaN     NaN  finished_tutorial  \n",
              "3    27835          NaN     NaN  finished_tutorial  \n",
              "4    27836          NaN     NaN  finished_tutorial  "
            ]
          },
          "execution_count": 253,
          "metadata": {},
          "output_type": "execute_result"
        }
      ],
      "source": [
        "\n",
        "# Создадим функцию, определяющую к какой группе относится пользователь.\n",
        "def identificate_group(user):\n",
        "    if user in set_users_finished_tutorial:\n",
        "        return 'finished_tutorial'\n",
        "    elif user in set_users_without_tutorial:\n",
        "        return 'without_tutorial'\n",
        "    else:\n",
        "        return 'other'\n",
        "\n",
        "# Применим эту функцию, чтобы создать в датафрейме новый признак.\n",
        "total_events_df['user_group'] = total_events_df['user_id'].apply(identificate_group)\n",
        "\n",
        "total_events_df.head()"
      ]
    },
    {
      "cell_type": "code",
      "execution_count": null,
      "metadata": {
        "id": "nR6_DPs6KLuc"
      },
      "outputs": [],
      "source": [
        "# С помощью сводной таблицы найдем, когда пользователи впервые переходили на каждый этап.\n",
        "users_events_datetime = total_events_df.pivot_table(\n",
        "    values='event_datetime',\n",
        "    index='user_id',\n",
        "    columns='event_type',\n",
        "    aggfunc='min'\n",
        ")"
      ]
    },
    {
      "cell_type": "code",
      "execution_count": null,
      "metadata": {
        "id": "d6sG_CRvKLud"
      },
      "outputs": [],
      "source": [
        "# Найдем длительность перехода на каждый этап.\n",
        "events = ['tutorial_start', 'tutorial_finish', 'level_choice', 'pack_choice', 'purchase']\n",
        "for event in events:\n",
        "    users_events_datetime['td_{}'.format(event)] = users_events_datetime[event] - users_events_datetime['registration']\n",
        "\n",
        "# Уберем лишние столбцы.\n",
        "users_events_td = users_events_datetime.drop(\n",
        "    ['registration', 'tutorial_start', 'tutorial_finish', 'level_choice', 'pack_choice', 'purchase'], axis=1)"
      ]
    },
    {
      "cell_type": "code",
      "execution_count": null,
      "metadata": {
        "id": "K-6vhb-cKLuf",
        "outputId": "e09ea8c4-b81a-4bc4-c361-8f0265cdb000"
      },
      "outputs": [
        {
          "data": {
            "text/html": [
              "<div>\n",
              "<style scoped>\n",
              "    .dataframe tbody tr th:only-of-type {\n",
              "        vertical-align: middle;\n",
              "    }\n",
              "\n",
              "    .dataframe tbody tr th {\n",
              "        vertical-align: top;\n",
              "    }\n",
              "\n",
              "    .dataframe thead th {\n",
              "        text-align: right;\n",
              "    }\n",
              "</style>\n",
              "<table border=\"1\" class=\"dataframe\">\n",
              "  <thead>\n",
              "    <tr style=\"text-align: right;\">\n",
              "      <th>event_type</th>\n",
              "      <th>td_tutorial_start</th>\n",
              "      <th>td_tutorial_finish</th>\n",
              "      <th>td_level_choice</th>\n",
              "      <th>td_pack_choice</th>\n",
              "      <th>td_purchase</th>\n",
              "    </tr>\n",
              "    <tr>\n",
              "      <th>user_group</th>\n",
              "      <th></th>\n",
              "      <th></th>\n",
              "      <th></th>\n",
              "      <th></th>\n",
              "      <th></th>\n",
              "    </tr>\n",
              "  </thead>\n",
              "  <tbody>\n",
              "    <tr>\n",
              "      <th>finished_tutorial</th>\n",
              "      <td>0 days 04:31:04.938146341</td>\n",
              "      <td>0 days 04:43:18.761268292</td>\n",
              "      <td>0 days 07:05:36.854819357</td>\n",
              "      <td>0 days 07:10:35.660162287</td>\n",
              "      <td>4 days 00:30:03.247408431</td>\n",
              "    </tr>\n",
              "    <tr>\n",
              "      <th>without_tutorial</th>\n",
              "      <td>NaT</td>\n",
              "      <td>NaT</td>\n",
              "      <td>0 days 05:15:33.122448979</td>\n",
              "      <td>0 days 05:07:16.175675675</td>\n",
              "      <td>4 days 09:06:01.909090909</td>\n",
              "    </tr>\n",
              "  </tbody>\n",
              "</table>\n",
              "</div>"
            ],
            "text/plain": [
              "event_type                td_tutorial_start        td_tutorial_finish  \\\n",
              "user_group                                                              \n",
              "finished_tutorial 0 days 04:31:04.938146341 0 days 04:43:18.761268292   \n",
              "without_tutorial                        NaT                       NaT   \n",
              "\n",
              "event_type                  td_level_choice            td_pack_choice  \\\n",
              "user_group                                                              \n",
              "finished_tutorial 0 days 07:05:36.854819357 0 days 07:10:35.660162287   \n",
              "without_tutorial  0 days 05:15:33.122448979 0 days 05:07:16.175675675   \n",
              "\n",
              "event_type                      td_purchase  \n",
              "user_group                                   \n",
              "finished_tutorial 4 days 00:30:03.247408431  \n",
              "without_tutorial  4 days 09:06:01.909090909  "
            ]
          },
          "metadata": {},
          "output_type": "display_data"
        }
      ],
      "source": [
        "# Теперь построим окончательную сводную таблицу, чтобы оценить интервалы для групп пользователей.\n",
        "# Сначала добавим столбцы user_id и user_group.\n",
        "users_events_td['user_id'] = users_events_datetime.index\n",
        "users_events_td['user_group'] = users_events_td['user_id'].apply(identificate_group)\n",
        "\n",
        "# Создадим саму сводную таблицу.\n",
        "groups_events_td = users_events_td.groupby(by='user_group')[\n",
        "    ['td_tutorial_start', 'td_tutorial_finish', 'td_level_choice', 'td_pack_choice', 'td_purchase']\n",
        "].mean()\n",
        "\n",
        "groups_events_td = groups_events_td.drop('other')\n",
        "\n",
        "display(groups_events_td)"
      ]
    },
    {
      "cell_type": "code",
      "execution_count": null,
      "metadata": {
        "id": "JixmHhz3KLuf",
        "outputId": "1d35016e-839a-4b5b-f696-accb323da85c"
      },
      "outputs": [
        {
          "data": {
            "text/html": [
              "<div>\n",
              "<style scoped>\n",
              "    .dataframe tbody tr th:only-of-type {\n",
              "        vertical-align: middle;\n",
              "    }\n",
              "\n",
              "    .dataframe tbody tr th {\n",
              "        vertical-align: top;\n",
              "    }\n",
              "\n",
              "    .dataframe thead th {\n",
              "        text-align: right;\n",
              "    }\n",
              "</style>\n",
              "<table border=\"1\" class=\"dataframe\">\n",
              "  <thead>\n",
              "    <tr style=\"text-align: right;\">\n",
              "      <th>event_type</th>\n",
              "      <th>td_tutorial_start</th>\n",
              "      <th>td_tutorial_finish</th>\n",
              "      <th>td_level_choice</th>\n",
              "      <th>td_pack_choice</th>\n",
              "      <th>td_purchase</th>\n",
              "      <th>user_group</th>\n",
              "    </tr>\n",
              "    <tr>\n",
              "      <th>user_group</th>\n",
              "      <th></th>\n",
              "      <th></th>\n",
              "      <th></th>\n",
              "      <th></th>\n",
              "      <th></th>\n",
              "      <th></th>\n",
              "    </tr>\n",
              "  </thead>\n",
              "  <tbody>\n",
              "    <tr>\n",
              "      <th>finished_tutorial</th>\n",
              "      <td>4.52</td>\n",
              "      <td>4.72</td>\n",
              "      <td>7.09</td>\n",
              "      <td>7.18</td>\n",
              "      <td>96.5</td>\n",
              "      <td>finished_tutorial</td>\n",
              "    </tr>\n",
              "    <tr>\n",
              "      <th>without_tutorial</th>\n",
              "      <td>0.00</td>\n",
              "      <td>0.00</td>\n",
              "      <td>5.26</td>\n",
              "      <td>5.12</td>\n",
              "      <td>105.1</td>\n",
              "      <td>without_tutorial</td>\n",
              "    </tr>\n",
              "  </tbody>\n",
              "</table>\n",
              "</div>"
            ],
            "text/plain": [
              "event_type         td_tutorial_start  td_tutorial_finish  td_level_choice  \\\n",
              "user_group                                                                  \n",
              "finished_tutorial               4.52                4.72             7.09   \n",
              "without_tutorial                0.00                0.00             5.26   \n",
              "\n",
              "event_type         td_pack_choice  td_purchase         user_group  \n",
              "user_group                                                         \n",
              "finished_tutorial            7.18         96.5  finished_tutorial  \n",
              "without_tutorial             5.12        105.1   without_tutorial  "
            ]
          },
          "metadata": {},
          "output_type": "display_data"
        }
      ],
      "source": [
        "# Сначала необходимо преобразовать тип данных в сводной таблице из временного в числовой.\n",
        "# За единицу измерения интервалов выберем час.\n",
        "groups_events_hours_td = round(groups_events_td/pd.Timedelta('1 hour'), 2)\n",
        "groups_events_hours_td['user_group'] = groups_events_hours_td.index\n",
        "groups_events_hours_td = groups_events_hours_td.fillna(0)\n",
        "\n",
        "display(groups_events_hours_td)"
      ]
    },
    {
      "cell_type": "code",
      "execution_count": null,
      "metadata": {
        "id": "TizDGoXRKLug",
        "outputId": "067a29f9-9844-43bc-8209-08a815ed123f"
      },
      "outputs": [
        {
          "data": {
            "application/vnd.plotly.v1+json": {
              "config": {
                "plotlyServerURL": "https://plot.ly"
              },
              "data": [
                {
                  "alignmentgroup": "True",
                  "bingroup": "x",
                  "histfunc": "sum",
                  "hovertemplate": "variable=td_tutorial_start<br>user_group=%{x}<br>sum of value=%{y}<extra></extra>",
                  "legendgroup": "td_tutorial_start",
                  "marker": {
                    "color": "#636efa",
                    "pattern": {
                      "shape": ""
                    }
                  },
                  "name": "td_tutorial_start",
                  "offsetgroup": "td_tutorial_start",
                  "orientation": "v",
                  "showlegend": true,
                  "type": "histogram",
                  "x": [
                    "finished_tutorial",
                    "without_tutorial"
                  ],
                  "xaxis": "x",
                  "y": [
                    4.52,
                    0
                  ],
                  "yaxis": "y"
                },
                {
                  "alignmentgroup": "True",
                  "bingroup": "x",
                  "histfunc": "sum",
                  "hovertemplate": "variable=td_tutorial_finish<br>user_group=%{x}<br>sum of value=%{y}<extra></extra>",
                  "legendgroup": "td_tutorial_finish",
                  "marker": {
                    "color": "#EF553B",
                    "pattern": {
                      "shape": ""
                    }
                  },
                  "name": "td_tutorial_finish",
                  "offsetgroup": "td_tutorial_finish",
                  "orientation": "v",
                  "showlegend": true,
                  "type": "histogram",
                  "x": [
                    "finished_tutorial",
                    "without_tutorial"
                  ],
                  "xaxis": "x",
                  "y": [
                    4.72,
                    0
                  ],
                  "yaxis": "y"
                },
                {
                  "alignmentgroup": "True",
                  "bingroup": "x",
                  "histfunc": "sum",
                  "hovertemplate": "variable=td_level_choice<br>user_group=%{x}<br>sum of value=%{y}<extra></extra>",
                  "legendgroup": "td_level_choice",
                  "marker": {
                    "color": "#00cc96",
                    "pattern": {
                      "shape": ""
                    }
                  },
                  "name": "td_level_choice",
                  "offsetgroup": "td_level_choice",
                  "orientation": "v",
                  "showlegend": true,
                  "type": "histogram",
                  "x": [
                    "finished_tutorial",
                    "without_tutorial"
                  ],
                  "xaxis": "x",
                  "y": [
                    7.09,
                    5.26
                  ],
                  "yaxis": "y"
                },
                {
                  "alignmentgroup": "True",
                  "bingroup": "x",
                  "histfunc": "sum",
                  "hovertemplate": "variable=td_pack_choice<br>user_group=%{x}<br>sum of value=%{y}<extra></extra>",
                  "legendgroup": "td_pack_choice",
                  "marker": {
                    "color": "#ab63fa",
                    "pattern": {
                      "shape": ""
                    }
                  },
                  "name": "td_pack_choice",
                  "offsetgroup": "td_pack_choice",
                  "orientation": "v",
                  "showlegend": true,
                  "type": "histogram",
                  "x": [
                    "finished_tutorial",
                    "without_tutorial"
                  ],
                  "xaxis": "x",
                  "y": [
                    7.18,
                    5.12
                  ],
                  "yaxis": "y"
                },
                {
                  "alignmentgroup": "True",
                  "bingroup": "x",
                  "histfunc": "sum",
                  "hovertemplate": "variable=td_purchase<br>user_group=%{x}<br>sum of value=%{y}<extra></extra>",
                  "legendgroup": "td_purchase",
                  "marker": {
                    "color": "#FFA15A",
                    "pattern": {
                      "shape": ""
                    }
                  },
                  "name": "td_purchase",
                  "offsetgroup": "td_purchase",
                  "orientation": "v",
                  "showlegend": true,
                  "type": "histogram",
                  "x": [
                    "finished_tutorial",
                    "without_tutorial"
                  ],
                  "xaxis": "x",
                  "y": [
                    96.5,
                    105.1
                  ],
                  "yaxis": "y"
                }
              ],
              "layout": {
                "barmode": "relative",
                "height": 700,
                "legend": {
                  "title": {
                    "text": "variable"
                  },
                  "tracegroupgap": 0
                },
                "template": {
                  "data": {
                    "bar": [
                      {
                        "error_x": {
                          "color": "#2a3f5f"
                        },
                        "error_y": {
                          "color": "#2a3f5f"
                        },
                        "marker": {
                          "line": {
                            "color": "#E5ECF6",
                            "width": 0.5
                          },
                          "pattern": {
                            "fillmode": "overlay",
                            "size": 10,
                            "solidity": 0.2
                          }
                        },
                        "type": "bar"
                      }
                    ],
                    "barpolar": [
                      {
                        "marker": {
                          "line": {
                            "color": "#E5ECF6",
                            "width": 0.5
                          },
                          "pattern": {
                            "fillmode": "overlay",
                            "size": 10,
                            "solidity": 0.2
                          }
                        },
                        "type": "barpolar"
                      }
                    ],
                    "carpet": [
                      {
                        "aaxis": {
                          "endlinecolor": "#2a3f5f",
                          "gridcolor": "white",
                          "linecolor": "white",
                          "minorgridcolor": "white",
                          "startlinecolor": "#2a3f5f"
                        },
                        "baxis": {
                          "endlinecolor": "#2a3f5f",
                          "gridcolor": "white",
                          "linecolor": "white",
                          "minorgridcolor": "white",
                          "startlinecolor": "#2a3f5f"
                        },
                        "type": "carpet"
                      }
                    ],
                    "choropleth": [
                      {
                        "colorbar": {
                          "outlinewidth": 0,
                          "ticks": ""
                        },
                        "type": "choropleth"
                      }
                    ],
                    "contour": [
                      {
                        "colorbar": {
                          "outlinewidth": 0,
                          "ticks": ""
                        },
                        "colorscale": [
                          [
                            0,
                            "#0d0887"
                          ],
                          [
                            0.1111111111111111,
                            "#46039f"
                          ],
                          [
                            0.2222222222222222,
                            "#7201a8"
                          ],
                          [
                            0.3333333333333333,
                            "#9c179e"
                          ],
                          [
                            0.4444444444444444,
                            "#bd3786"
                          ],
                          [
                            0.5555555555555556,
                            "#d8576b"
                          ],
                          [
                            0.6666666666666666,
                            "#ed7953"
                          ],
                          [
                            0.7777777777777778,
                            "#fb9f3a"
                          ],
                          [
                            0.8888888888888888,
                            "#fdca26"
                          ],
                          [
                            1,
                            "#f0f921"
                          ]
                        ],
                        "type": "contour"
                      }
                    ],
                    "contourcarpet": [
                      {
                        "colorbar": {
                          "outlinewidth": 0,
                          "ticks": ""
                        },
                        "type": "contourcarpet"
                      }
                    ],
                    "heatmap": [
                      {
                        "colorbar": {
                          "outlinewidth": 0,
                          "ticks": ""
                        },
                        "colorscale": [
                          [
                            0,
                            "#0d0887"
                          ],
                          [
                            0.1111111111111111,
                            "#46039f"
                          ],
                          [
                            0.2222222222222222,
                            "#7201a8"
                          ],
                          [
                            0.3333333333333333,
                            "#9c179e"
                          ],
                          [
                            0.4444444444444444,
                            "#bd3786"
                          ],
                          [
                            0.5555555555555556,
                            "#d8576b"
                          ],
                          [
                            0.6666666666666666,
                            "#ed7953"
                          ],
                          [
                            0.7777777777777778,
                            "#fb9f3a"
                          ],
                          [
                            0.8888888888888888,
                            "#fdca26"
                          ],
                          [
                            1,
                            "#f0f921"
                          ]
                        ],
                        "type": "heatmap"
                      }
                    ],
                    "heatmapgl": [
                      {
                        "colorbar": {
                          "outlinewidth": 0,
                          "ticks": ""
                        },
                        "colorscale": [
                          [
                            0,
                            "#0d0887"
                          ],
                          [
                            0.1111111111111111,
                            "#46039f"
                          ],
                          [
                            0.2222222222222222,
                            "#7201a8"
                          ],
                          [
                            0.3333333333333333,
                            "#9c179e"
                          ],
                          [
                            0.4444444444444444,
                            "#bd3786"
                          ],
                          [
                            0.5555555555555556,
                            "#d8576b"
                          ],
                          [
                            0.6666666666666666,
                            "#ed7953"
                          ],
                          [
                            0.7777777777777778,
                            "#fb9f3a"
                          ],
                          [
                            0.8888888888888888,
                            "#fdca26"
                          ],
                          [
                            1,
                            "#f0f921"
                          ]
                        ],
                        "type": "heatmapgl"
                      }
                    ],
                    "histogram": [
                      {
                        "marker": {
                          "pattern": {
                            "fillmode": "overlay",
                            "size": 10,
                            "solidity": 0.2
                          }
                        },
                        "type": "histogram"
                      }
                    ],
                    "histogram2d": [
                      {
                        "colorbar": {
                          "outlinewidth": 0,
                          "ticks": ""
                        },
                        "colorscale": [
                          [
                            0,
                            "#0d0887"
                          ],
                          [
                            0.1111111111111111,
                            "#46039f"
                          ],
                          [
                            0.2222222222222222,
                            "#7201a8"
                          ],
                          [
                            0.3333333333333333,
                            "#9c179e"
                          ],
                          [
                            0.4444444444444444,
                            "#bd3786"
                          ],
                          [
                            0.5555555555555556,
                            "#d8576b"
                          ],
                          [
                            0.6666666666666666,
                            "#ed7953"
                          ],
                          [
                            0.7777777777777778,
                            "#fb9f3a"
                          ],
                          [
                            0.8888888888888888,
                            "#fdca26"
                          ],
                          [
                            1,
                            "#f0f921"
                          ]
                        ],
                        "type": "histogram2d"
                      }
                    ],
                    "histogram2dcontour": [
                      {
                        "colorbar": {
                          "outlinewidth": 0,
                          "ticks": ""
                        },
                        "colorscale": [
                          [
                            0,
                            "#0d0887"
                          ],
                          [
                            0.1111111111111111,
                            "#46039f"
                          ],
                          [
                            0.2222222222222222,
                            "#7201a8"
                          ],
                          [
                            0.3333333333333333,
                            "#9c179e"
                          ],
                          [
                            0.4444444444444444,
                            "#bd3786"
                          ],
                          [
                            0.5555555555555556,
                            "#d8576b"
                          ],
                          [
                            0.6666666666666666,
                            "#ed7953"
                          ],
                          [
                            0.7777777777777778,
                            "#fb9f3a"
                          ],
                          [
                            0.8888888888888888,
                            "#fdca26"
                          ],
                          [
                            1,
                            "#f0f921"
                          ]
                        ],
                        "type": "histogram2dcontour"
                      }
                    ],
                    "mesh3d": [
                      {
                        "colorbar": {
                          "outlinewidth": 0,
                          "ticks": ""
                        },
                        "type": "mesh3d"
                      }
                    ],
                    "parcoords": [
                      {
                        "line": {
                          "colorbar": {
                            "outlinewidth": 0,
                            "ticks": ""
                          }
                        },
                        "type": "parcoords"
                      }
                    ],
                    "pie": [
                      {
                        "automargin": true,
                        "type": "pie"
                      }
                    ],
                    "scatter": [
                      {
                        "fillpattern": {
                          "fillmode": "overlay",
                          "size": 10,
                          "solidity": 0.2
                        },
                        "type": "scatter"
                      }
                    ],
                    "scatter3d": [
                      {
                        "line": {
                          "colorbar": {
                            "outlinewidth": 0,
                            "ticks": ""
                          }
                        },
                        "marker": {
                          "colorbar": {
                            "outlinewidth": 0,
                            "ticks": ""
                          }
                        },
                        "type": "scatter3d"
                      }
                    ],
                    "scattercarpet": [
                      {
                        "marker": {
                          "colorbar": {
                            "outlinewidth": 0,
                            "ticks": ""
                          }
                        },
                        "type": "scattercarpet"
                      }
                    ],
                    "scattergeo": [
                      {
                        "marker": {
                          "colorbar": {
                            "outlinewidth": 0,
                            "ticks": ""
                          }
                        },
                        "type": "scattergeo"
                      }
                    ],
                    "scattergl": [
                      {
                        "marker": {
                          "colorbar": {
                            "outlinewidth": 0,
                            "ticks": ""
                          }
                        },
                        "type": "scattergl"
                      }
                    ],
                    "scattermapbox": [
                      {
                        "marker": {
                          "colorbar": {
                            "outlinewidth": 0,
                            "ticks": ""
                          }
                        },
                        "type": "scattermapbox"
                      }
                    ],
                    "scatterpolar": [
                      {
                        "marker": {
                          "colorbar": {
                            "outlinewidth": 0,
                            "ticks": ""
                          }
                        },
                        "type": "scatterpolar"
                      }
                    ],
                    "scatterpolargl": [
                      {
                        "marker": {
                          "colorbar": {
                            "outlinewidth": 0,
                            "ticks": ""
                          }
                        },
                        "type": "scatterpolargl"
                      }
                    ],
                    "scatterternary": [
                      {
                        "marker": {
                          "colorbar": {
                            "outlinewidth": 0,
                            "ticks": ""
                          }
                        },
                        "type": "scatterternary"
                      }
                    ],
                    "surface": [
                      {
                        "colorbar": {
                          "outlinewidth": 0,
                          "ticks": ""
                        },
                        "colorscale": [
                          [
                            0,
                            "#0d0887"
                          ],
                          [
                            0.1111111111111111,
                            "#46039f"
                          ],
                          [
                            0.2222222222222222,
                            "#7201a8"
                          ],
                          [
                            0.3333333333333333,
                            "#9c179e"
                          ],
                          [
                            0.4444444444444444,
                            "#bd3786"
                          ],
                          [
                            0.5555555555555556,
                            "#d8576b"
                          ],
                          [
                            0.6666666666666666,
                            "#ed7953"
                          ],
                          [
                            0.7777777777777778,
                            "#fb9f3a"
                          ],
                          [
                            0.8888888888888888,
                            "#fdca26"
                          ],
                          [
                            1,
                            "#f0f921"
                          ]
                        ],
                        "type": "surface"
                      }
                    ],
                    "table": [
                      {
                        "cells": {
                          "fill": {
                            "color": "#EBF0F8"
                          },
                          "line": {
                            "color": "white"
                          }
                        },
                        "header": {
                          "fill": {
                            "color": "#C8D4E3"
                          },
                          "line": {
                            "color": "white"
                          }
                        },
                        "type": "table"
                      }
                    ]
                  },
                  "layout": {
                    "annotationdefaults": {
                      "arrowcolor": "#2a3f5f",
                      "arrowhead": 0,
                      "arrowwidth": 1
                    },
                    "autotypenumbers": "strict",
                    "coloraxis": {
                      "colorbar": {
                        "outlinewidth": 0,
                        "ticks": ""
                      }
                    },
                    "colorscale": {
                      "diverging": [
                        [
                          0,
                          "#8e0152"
                        ],
                        [
                          0.1,
                          "#c51b7d"
                        ],
                        [
                          0.2,
                          "#de77ae"
                        ],
                        [
                          0.3,
                          "#f1b6da"
                        ],
                        [
                          0.4,
                          "#fde0ef"
                        ],
                        [
                          0.5,
                          "#f7f7f7"
                        ],
                        [
                          0.6,
                          "#e6f5d0"
                        ],
                        [
                          0.7,
                          "#b8e186"
                        ],
                        [
                          0.8,
                          "#7fbc41"
                        ],
                        [
                          0.9,
                          "#4d9221"
                        ],
                        [
                          1,
                          "#276419"
                        ]
                      ],
                      "sequential": [
                        [
                          0,
                          "#0d0887"
                        ],
                        [
                          0.1111111111111111,
                          "#46039f"
                        ],
                        [
                          0.2222222222222222,
                          "#7201a8"
                        ],
                        [
                          0.3333333333333333,
                          "#9c179e"
                        ],
                        [
                          0.4444444444444444,
                          "#bd3786"
                        ],
                        [
                          0.5555555555555556,
                          "#d8576b"
                        ],
                        [
                          0.6666666666666666,
                          "#ed7953"
                        ],
                        [
                          0.7777777777777778,
                          "#fb9f3a"
                        ],
                        [
                          0.8888888888888888,
                          "#fdca26"
                        ],
                        [
                          1,
                          "#f0f921"
                        ]
                      ],
                      "sequentialminus": [
                        [
                          0,
                          "#0d0887"
                        ],
                        [
                          0.1111111111111111,
                          "#46039f"
                        ],
                        [
                          0.2222222222222222,
                          "#7201a8"
                        ],
                        [
                          0.3333333333333333,
                          "#9c179e"
                        ],
                        [
                          0.4444444444444444,
                          "#bd3786"
                        ],
                        [
                          0.5555555555555556,
                          "#d8576b"
                        ],
                        [
                          0.6666666666666666,
                          "#ed7953"
                        ],
                        [
                          0.7777777777777778,
                          "#fb9f3a"
                        ],
                        [
                          0.8888888888888888,
                          "#fdca26"
                        ],
                        [
                          1,
                          "#f0f921"
                        ]
                      ]
                    },
                    "colorway": [
                      "#636efa",
                      "#EF553B",
                      "#00cc96",
                      "#ab63fa",
                      "#FFA15A",
                      "#19d3f3",
                      "#FF6692",
                      "#B6E880",
                      "#FF97FF",
                      "#FECB52"
                    ],
                    "font": {
                      "color": "#2a3f5f"
                    },
                    "geo": {
                      "bgcolor": "white",
                      "lakecolor": "white",
                      "landcolor": "#E5ECF6",
                      "showlakes": true,
                      "showland": true,
                      "subunitcolor": "white"
                    },
                    "hoverlabel": {
                      "align": "left"
                    },
                    "hovermode": "closest",
                    "mapbox": {
                      "style": "light"
                    },
                    "paper_bgcolor": "white",
                    "plot_bgcolor": "#E5ECF6",
                    "polar": {
                      "angularaxis": {
                        "gridcolor": "white",
                        "linecolor": "white",
                        "ticks": ""
                      },
                      "bgcolor": "#E5ECF6",
                      "radialaxis": {
                        "gridcolor": "white",
                        "linecolor": "white",
                        "ticks": ""
                      }
                    },
                    "scene": {
                      "xaxis": {
                        "backgroundcolor": "#E5ECF6",
                        "gridcolor": "white",
                        "gridwidth": 2,
                        "linecolor": "white",
                        "showbackground": true,
                        "ticks": "",
                        "zerolinecolor": "white"
                      },
                      "yaxis": {
                        "backgroundcolor": "#E5ECF6",
                        "gridcolor": "white",
                        "gridwidth": 2,
                        "linecolor": "white",
                        "showbackground": true,
                        "ticks": "",
                        "zerolinecolor": "white"
                      },
                      "zaxis": {
                        "backgroundcolor": "#E5ECF6",
                        "gridcolor": "white",
                        "gridwidth": 2,
                        "linecolor": "white",
                        "showbackground": true,
                        "ticks": "",
                        "zerolinecolor": "white"
                      }
                    },
                    "shapedefaults": {
                      "line": {
                        "color": "#2a3f5f"
                      }
                    },
                    "ternary": {
                      "aaxis": {
                        "gridcolor": "white",
                        "linecolor": "white",
                        "ticks": ""
                      },
                      "baxis": {
                        "gridcolor": "white",
                        "linecolor": "white",
                        "ticks": ""
                      },
                      "bgcolor": "#E5ECF6",
                      "caxis": {
                        "gridcolor": "white",
                        "linecolor": "white",
                        "ticks": ""
                      }
                    },
                    "title": {
                      "x": 0.05
                    },
                    "xaxis": {
                      "automargin": true,
                      "gridcolor": "white",
                      "linecolor": "white",
                      "ticks": "",
                      "title": {
                        "standoff": 15
                      },
                      "zerolinecolor": "white",
                      "zerolinewidth": 2
                    },
                    "yaxis": {
                      "automargin": true,
                      "gridcolor": "white",
                      "linecolor": "white",
                      "ticks": "",
                      "title": {
                        "standoff": 15
                      },
                      "zerolinecolor": "white",
                      "zerolinewidth": 2
                    }
                  }
                },
                "title": {
                  "text": "Later in hour"
                },
                "width": 700,
                "xaxis": {
                  "anchor": "y",
                  "domain": [
                    0,
                    1
                  ],
                  "title": {
                    "text": "user_group"
                  }
                },
                "yaxis": {
                  "anchor": "x",
                  "domain": [
                    0,
                    1
                  ],
                  "title": {
                    "text": "sum of value"
                  }
                }
              }
            }
          },
          "metadata": {},
          "output_type": "display_data"
        }
      ],
      "source": [
        "# Импортируем библиотеку.\n",
        "import plotly\n",
        "import plotly.express as px\n",
        "\n",
        "# Строим график.\n",
        "fig1 = px.histogram(\n",
        "    data_frame=groups_events_hours_td,\n",
        "    x='user_group',\n",
        "    y=['td_tutorial_start', 'td_tutorial_finish', 'td_level_choice', 'td_pack_choice', 'td_purchase'],\n",
        "    title='Later in hour',\n",
        "    # color='user_group',\n",
        "    width=700,\n",
        "    height=700,\n",
        "    #notched=True,\n",
        "    #points=\"all\"\n",
        ")\n",
        "fig1.show()"
      ]
    },
    {
      "cell_type": "code",
      "execution_count": null,
      "metadata": {
        "id": "wYzJz5rzKLuh",
        "outputId": "d78e5122-9be2-40bf-97a2-2181209ac7bb"
      },
      "outputs": [
        {
          "data": {
            "text/plain": [
              "8.2"
            ]
          },
          "execution_count": 259,
          "metadata": {},
          "output_type": "execute_result"
        }
      ],
      "source": [
        "# Посчитаем разницу во времени в процентом соотношении для пути от регистрации до покупка платных пакетов вопросов\n",
        "round(((groups_events_hours_td.iloc[1][4] - groups_events_hours_td.iloc[0][4]) / groups_events_hours_td.iloc[1][4]) * 100, 1)"
      ]
    },
    {
      "cell_type": "markdown",
      "metadata": {
        "id": "H8-pVV7EKLuh"
      },
      "source": [
        "Вывод: у группы без обучения этапы короче чем у группы с обучением за счет времени самого обучения, однако, если посмотреть весь путь от регистрации до покупки платных пакетов вопросов, то он для группы не прошедших обучение занимает времени на 8,2% больше."
      ]
    },
    {
      "cell_type": "markdown",
      "metadata": {
        "id": "aTUiJh--KLuh"
      },
      "source": [
        "# Проверка гипотезы 2.\n",
        "\n",
        "***Влияет ли на оплату повторное обучение?***\n",
        "\n",
        "Нужно проверить, существует ли зависимость между вероятностью оплаты вопросов и количеством обучений, которые начинал или завершал пользователь."
      ]
    },
    {
      "cell_type": "code",
      "execution_count": null,
      "metadata": {
        "id": "Y3quoVaCKLui"
      },
      "outputs": [],
      "source": [
        "#Создадим список пользователей совершивших покупку\n",
        "set_users_with_purchase = set(total_events_df[total_events_df.event_type == 'purchase']['user_id'].unique())"
      ]
    },
    {
      "cell_type": "code",
      "execution_count": null,
      "metadata": {
        "id": "9wz94FPZKLui"
      },
      "outputs": [],
      "source": [
        "#Создадим датафрейм с количеством попыток прохождения обучения пользователями\n",
        "tutorial_attempts_df = total_events_df.groupby('user_id')['tutorial_id'].nunique().reset_index()\n",
        "tutorial_attempts_df = tutorial_attempts_df.rename(columns={'tutorial_id':'tutorial_attempts'})"
      ]
    },
    {
      "cell_type": "code",
      "execution_count": null,
      "metadata": {
        "id": "CPBAFxHfKLuj"
      },
      "outputs": [],
      "source": [
        "#Добавим столбец purchase, польователи без покупки будут со значением 0\n",
        "tutorial_attempts_df['purchase'] = tutorial_attempts_df.apply(\n",
        "    lambda x : 1 if x ['user_id'] in set_users_with_purchase else 0, axis=1\n",
        ")"
      ]
    },
    {
      "cell_type": "code",
      "execution_count": null,
      "metadata": {
        "id": "ZPdsz4p1KLuj"
      },
      "outputs": [],
      "source": [
        "# Найдем длительность перехода на каждый этап.\n",
        "events = ['tutorial_start', 'tutorial_finish', 'level_choice', 'pack_choice', 'purchase']\n",
        "for event in events:\n",
        "    users_events_datetime['td_{}'.format(event)] = users_events_datetime[event] - users_events_datetime['registration']"
      ]
    },
    {
      "cell_type": "code",
      "execution_count": null,
      "metadata": {
        "id": "qQaSpvdbKLuj"
      },
      "outputs": [],
      "source": [
        "#Сгруппируем по количеству прохождения обучения пользователями и посчитаем колличество покупок\n",
        "tutorial_attempts_df.loc[tutorial_attempts_df['tutorial_attempts'] > 3, 'tutorial_attempts'] = '4 and more attempts'\n",
        "count_tutorial_attempts_df = tutorial_attempts_df.groupby('tutorial_attempts')['purchase'].sum().reset_index()\n",
        "count_tutorial_attempts_df.loc[count_tutorial_attempts_df['tutorial_attempts'] == 3, 'tutorial_attempts'] = '3 attempts'\n",
        "count_tutorial_attempts_df.loc[count_tutorial_attempts_df['tutorial_attempts'] == 2, 'tutorial_attempts'] = '2 attempts'\n",
        "count_tutorial_attempts_df.loc[count_tutorial_attempts_df['tutorial_attempts'] == 1, 'tutorial_attempts'] = '1 attempt'\n",
        "count_tutorial_attempts_df.loc[count_tutorial_attempts_df['tutorial_attempts'] == 0, 'tutorial_attempts'] = '0 attempts'"
      ]
    },
    {
      "cell_type": "code",
      "execution_count": null,
      "metadata": {
        "id": "E2P8dG81KLuk",
        "outputId": "5f6b58f5-813c-4f3d-fe96-cd482a4d3d6f"
      },
      "outputs": [
        {
          "data": {
            "application/vnd.plotly.v1+json": {
              "config": {
                "plotlyServerURL": "https://plot.ly"
              },
              "data": [
                {
                  "domain": {
                    "x": [
                      0,
                      1
                    ],
                    "y": [
                      0,
                      1
                    ]
                  },
                  "hovertemplate": "tutorial_attempts=%{label}<br>purchase=%{value}<extra></extra>",
                  "labels": [
                    "0 attempts",
                    "1 attempt",
                    "2 attempts",
                    "3 attempts",
                    "4 and more attempts"
                  ],
                  "legendgroup": "",
                  "name": "",
                  "showlegend": true,
                  "type": "pie",
                  "values": [
                    22,
                    1207,
                    218,
                    51,
                    102
                  ]
                }
              ],
              "layout": {
                "height": 500,
                "legend": {
                  "tracegroupgap": 0
                },
                "template": {
                  "data": {
                    "bar": [
                      {
                        "error_x": {
                          "color": "#2a3f5f"
                        },
                        "error_y": {
                          "color": "#2a3f5f"
                        },
                        "marker": {
                          "line": {
                            "color": "#E5ECF6",
                            "width": 0.5
                          },
                          "pattern": {
                            "fillmode": "overlay",
                            "size": 10,
                            "solidity": 0.2
                          }
                        },
                        "type": "bar"
                      }
                    ],
                    "barpolar": [
                      {
                        "marker": {
                          "line": {
                            "color": "#E5ECF6",
                            "width": 0.5
                          },
                          "pattern": {
                            "fillmode": "overlay",
                            "size": 10,
                            "solidity": 0.2
                          }
                        },
                        "type": "barpolar"
                      }
                    ],
                    "carpet": [
                      {
                        "aaxis": {
                          "endlinecolor": "#2a3f5f",
                          "gridcolor": "white",
                          "linecolor": "white",
                          "minorgridcolor": "white",
                          "startlinecolor": "#2a3f5f"
                        },
                        "baxis": {
                          "endlinecolor": "#2a3f5f",
                          "gridcolor": "white",
                          "linecolor": "white",
                          "minorgridcolor": "white",
                          "startlinecolor": "#2a3f5f"
                        },
                        "type": "carpet"
                      }
                    ],
                    "choropleth": [
                      {
                        "colorbar": {
                          "outlinewidth": 0,
                          "ticks": ""
                        },
                        "type": "choropleth"
                      }
                    ],
                    "contour": [
                      {
                        "colorbar": {
                          "outlinewidth": 0,
                          "ticks": ""
                        },
                        "colorscale": [
                          [
                            0,
                            "#0d0887"
                          ],
                          [
                            0.1111111111111111,
                            "#46039f"
                          ],
                          [
                            0.2222222222222222,
                            "#7201a8"
                          ],
                          [
                            0.3333333333333333,
                            "#9c179e"
                          ],
                          [
                            0.4444444444444444,
                            "#bd3786"
                          ],
                          [
                            0.5555555555555556,
                            "#d8576b"
                          ],
                          [
                            0.6666666666666666,
                            "#ed7953"
                          ],
                          [
                            0.7777777777777778,
                            "#fb9f3a"
                          ],
                          [
                            0.8888888888888888,
                            "#fdca26"
                          ],
                          [
                            1,
                            "#f0f921"
                          ]
                        ],
                        "type": "contour"
                      }
                    ],
                    "contourcarpet": [
                      {
                        "colorbar": {
                          "outlinewidth": 0,
                          "ticks": ""
                        },
                        "type": "contourcarpet"
                      }
                    ],
                    "heatmap": [
                      {
                        "colorbar": {
                          "outlinewidth": 0,
                          "ticks": ""
                        },
                        "colorscale": [
                          [
                            0,
                            "#0d0887"
                          ],
                          [
                            0.1111111111111111,
                            "#46039f"
                          ],
                          [
                            0.2222222222222222,
                            "#7201a8"
                          ],
                          [
                            0.3333333333333333,
                            "#9c179e"
                          ],
                          [
                            0.4444444444444444,
                            "#bd3786"
                          ],
                          [
                            0.5555555555555556,
                            "#d8576b"
                          ],
                          [
                            0.6666666666666666,
                            "#ed7953"
                          ],
                          [
                            0.7777777777777778,
                            "#fb9f3a"
                          ],
                          [
                            0.8888888888888888,
                            "#fdca26"
                          ],
                          [
                            1,
                            "#f0f921"
                          ]
                        ],
                        "type": "heatmap"
                      }
                    ],
                    "heatmapgl": [
                      {
                        "colorbar": {
                          "outlinewidth": 0,
                          "ticks": ""
                        },
                        "colorscale": [
                          [
                            0,
                            "#0d0887"
                          ],
                          [
                            0.1111111111111111,
                            "#46039f"
                          ],
                          [
                            0.2222222222222222,
                            "#7201a8"
                          ],
                          [
                            0.3333333333333333,
                            "#9c179e"
                          ],
                          [
                            0.4444444444444444,
                            "#bd3786"
                          ],
                          [
                            0.5555555555555556,
                            "#d8576b"
                          ],
                          [
                            0.6666666666666666,
                            "#ed7953"
                          ],
                          [
                            0.7777777777777778,
                            "#fb9f3a"
                          ],
                          [
                            0.8888888888888888,
                            "#fdca26"
                          ],
                          [
                            1,
                            "#f0f921"
                          ]
                        ],
                        "type": "heatmapgl"
                      }
                    ],
                    "histogram": [
                      {
                        "marker": {
                          "pattern": {
                            "fillmode": "overlay",
                            "size": 10,
                            "solidity": 0.2
                          }
                        },
                        "type": "histogram"
                      }
                    ],
                    "histogram2d": [
                      {
                        "colorbar": {
                          "outlinewidth": 0,
                          "ticks": ""
                        },
                        "colorscale": [
                          [
                            0,
                            "#0d0887"
                          ],
                          [
                            0.1111111111111111,
                            "#46039f"
                          ],
                          [
                            0.2222222222222222,
                            "#7201a8"
                          ],
                          [
                            0.3333333333333333,
                            "#9c179e"
                          ],
                          [
                            0.4444444444444444,
                            "#bd3786"
                          ],
                          [
                            0.5555555555555556,
                            "#d8576b"
                          ],
                          [
                            0.6666666666666666,
                            "#ed7953"
                          ],
                          [
                            0.7777777777777778,
                            "#fb9f3a"
                          ],
                          [
                            0.8888888888888888,
                            "#fdca26"
                          ],
                          [
                            1,
                            "#f0f921"
                          ]
                        ],
                        "type": "histogram2d"
                      }
                    ],
                    "histogram2dcontour": [
                      {
                        "colorbar": {
                          "outlinewidth": 0,
                          "ticks": ""
                        },
                        "colorscale": [
                          [
                            0,
                            "#0d0887"
                          ],
                          [
                            0.1111111111111111,
                            "#46039f"
                          ],
                          [
                            0.2222222222222222,
                            "#7201a8"
                          ],
                          [
                            0.3333333333333333,
                            "#9c179e"
                          ],
                          [
                            0.4444444444444444,
                            "#bd3786"
                          ],
                          [
                            0.5555555555555556,
                            "#d8576b"
                          ],
                          [
                            0.6666666666666666,
                            "#ed7953"
                          ],
                          [
                            0.7777777777777778,
                            "#fb9f3a"
                          ],
                          [
                            0.8888888888888888,
                            "#fdca26"
                          ],
                          [
                            1,
                            "#f0f921"
                          ]
                        ],
                        "type": "histogram2dcontour"
                      }
                    ],
                    "mesh3d": [
                      {
                        "colorbar": {
                          "outlinewidth": 0,
                          "ticks": ""
                        },
                        "type": "mesh3d"
                      }
                    ],
                    "parcoords": [
                      {
                        "line": {
                          "colorbar": {
                            "outlinewidth": 0,
                            "ticks": ""
                          }
                        },
                        "type": "parcoords"
                      }
                    ],
                    "pie": [
                      {
                        "automargin": true,
                        "type": "pie"
                      }
                    ],
                    "scatter": [
                      {
                        "fillpattern": {
                          "fillmode": "overlay",
                          "size": 10,
                          "solidity": 0.2
                        },
                        "type": "scatter"
                      }
                    ],
                    "scatter3d": [
                      {
                        "line": {
                          "colorbar": {
                            "outlinewidth": 0,
                            "ticks": ""
                          }
                        },
                        "marker": {
                          "colorbar": {
                            "outlinewidth": 0,
                            "ticks": ""
                          }
                        },
                        "type": "scatter3d"
                      }
                    ],
                    "scattercarpet": [
                      {
                        "marker": {
                          "colorbar": {
                            "outlinewidth": 0,
                            "ticks": ""
                          }
                        },
                        "type": "scattercarpet"
                      }
                    ],
                    "scattergeo": [
                      {
                        "marker": {
                          "colorbar": {
                            "outlinewidth": 0,
                            "ticks": ""
                          }
                        },
                        "type": "scattergeo"
                      }
                    ],
                    "scattergl": [
                      {
                        "marker": {
                          "colorbar": {
                            "outlinewidth": 0,
                            "ticks": ""
                          }
                        },
                        "type": "scattergl"
                      }
                    ],
                    "scattermapbox": [
                      {
                        "marker": {
                          "colorbar": {
                            "outlinewidth": 0,
                            "ticks": ""
                          }
                        },
                        "type": "scattermapbox"
                      }
                    ],
                    "scatterpolar": [
                      {
                        "marker": {
                          "colorbar": {
                            "outlinewidth": 0,
                            "ticks": ""
                          }
                        },
                        "type": "scatterpolar"
                      }
                    ],
                    "scatterpolargl": [
                      {
                        "marker": {
                          "colorbar": {
                            "outlinewidth": 0,
                            "ticks": ""
                          }
                        },
                        "type": "scatterpolargl"
                      }
                    ],
                    "scatterternary": [
                      {
                        "marker": {
                          "colorbar": {
                            "outlinewidth": 0,
                            "ticks": ""
                          }
                        },
                        "type": "scatterternary"
                      }
                    ],
                    "surface": [
                      {
                        "colorbar": {
                          "outlinewidth": 0,
                          "ticks": ""
                        },
                        "colorscale": [
                          [
                            0,
                            "#0d0887"
                          ],
                          [
                            0.1111111111111111,
                            "#46039f"
                          ],
                          [
                            0.2222222222222222,
                            "#7201a8"
                          ],
                          [
                            0.3333333333333333,
                            "#9c179e"
                          ],
                          [
                            0.4444444444444444,
                            "#bd3786"
                          ],
                          [
                            0.5555555555555556,
                            "#d8576b"
                          ],
                          [
                            0.6666666666666666,
                            "#ed7953"
                          ],
                          [
                            0.7777777777777778,
                            "#fb9f3a"
                          ],
                          [
                            0.8888888888888888,
                            "#fdca26"
                          ],
                          [
                            1,
                            "#f0f921"
                          ]
                        ],
                        "type": "surface"
                      }
                    ],
                    "table": [
                      {
                        "cells": {
                          "fill": {
                            "color": "#EBF0F8"
                          },
                          "line": {
                            "color": "white"
                          }
                        },
                        "header": {
                          "fill": {
                            "color": "#C8D4E3"
                          },
                          "line": {
                            "color": "white"
                          }
                        },
                        "type": "table"
                      }
                    ]
                  },
                  "layout": {
                    "annotationdefaults": {
                      "arrowcolor": "#2a3f5f",
                      "arrowhead": 0,
                      "arrowwidth": 1
                    },
                    "autotypenumbers": "strict",
                    "coloraxis": {
                      "colorbar": {
                        "outlinewidth": 0,
                        "ticks": ""
                      }
                    },
                    "colorscale": {
                      "diverging": [
                        [
                          0,
                          "#8e0152"
                        ],
                        [
                          0.1,
                          "#c51b7d"
                        ],
                        [
                          0.2,
                          "#de77ae"
                        ],
                        [
                          0.3,
                          "#f1b6da"
                        ],
                        [
                          0.4,
                          "#fde0ef"
                        ],
                        [
                          0.5,
                          "#f7f7f7"
                        ],
                        [
                          0.6,
                          "#e6f5d0"
                        ],
                        [
                          0.7,
                          "#b8e186"
                        ],
                        [
                          0.8,
                          "#7fbc41"
                        ],
                        [
                          0.9,
                          "#4d9221"
                        ],
                        [
                          1,
                          "#276419"
                        ]
                      ],
                      "sequential": [
                        [
                          0,
                          "#0d0887"
                        ],
                        [
                          0.1111111111111111,
                          "#46039f"
                        ],
                        [
                          0.2222222222222222,
                          "#7201a8"
                        ],
                        [
                          0.3333333333333333,
                          "#9c179e"
                        ],
                        [
                          0.4444444444444444,
                          "#bd3786"
                        ],
                        [
                          0.5555555555555556,
                          "#d8576b"
                        ],
                        [
                          0.6666666666666666,
                          "#ed7953"
                        ],
                        [
                          0.7777777777777778,
                          "#fb9f3a"
                        ],
                        [
                          0.8888888888888888,
                          "#fdca26"
                        ],
                        [
                          1,
                          "#f0f921"
                        ]
                      ],
                      "sequentialminus": [
                        [
                          0,
                          "#0d0887"
                        ],
                        [
                          0.1111111111111111,
                          "#46039f"
                        ],
                        [
                          0.2222222222222222,
                          "#7201a8"
                        ],
                        [
                          0.3333333333333333,
                          "#9c179e"
                        ],
                        [
                          0.4444444444444444,
                          "#bd3786"
                        ],
                        [
                          0.5555555555555556,
                          "#d8576b"
                        ],
                        [
                          0.6666666666666666,
                          "#ed7953"
                        ],
                        [
                          0.7777777777777778,
                          "#fb9f3a"
                        ],
                        [
                          0.8888888888888888,
                          "#fdca26"
                        ],
                        [
                          1,
                          "#f0f921"
                        ]
                      ]
                    },
                    "colorway": [
                      "#636efa",
                      "#EF553B",
                      "#00cc96",
                      "#ab63fa",
                      "#FFA15A",
                      "#19d3f3",
                      "#FF6692",
                      "#B6E880",
                      "#FF97FF",
                      "#FECB52"
                    ],
                    "font": {
                      "color": "#2a3f5f"
                    },
                    "geo": {
                      "bgcolor": "white",
                      "lakecolor": "white",
                      "landcolor": "#E5ECF6",
                      "showlakes": true,
                      "showland": true,
                      "subunitcolor": "white"
                    },
                    "hoverlabel": {
                      "align": "left"
                    },
                    "hovermode": "closest",
                    "mapbox": {
                      "style": "light"
                    },
                    "paper_bgcolor": "white",
                    "plot_bgcolor": "#E5ECF6",
                    "polar": {
                      "angularaxis": {
                        "gridcolor": "white",
                        "linecolor": "white",
                        "ticks": ""
                      },
                      "bgcolor": "#E5ECF6",
                      "radialaxis": {
                        "gridcolor": "white",
                        "linecolor": "white",
                        "ticks": ""
                      }
                    },
                    "scene": {
                      "xaxis": {
                        "backgroundcolor": "#E5ECF6",
                        "gridcolor": "white",
                        "gridwidth": 2,
                        "linecolor": "white",
                        "showbackground": true,
                        "ticks": "",
                        "zerolinecolor": "white"
                      },
                      "yaxis": {
                        "backgroundcolor": "#E5ECF6",
                        "gridcolor": "white",
                        "gridwidth": 2,
                        "linecolor": "white",
                        "showbackground": true,
                        "ticks": "",
                        "zerolinecolor": "white"
                      },
                      "zaxis": {
                        "backgroundcolor": "#E5ECF6",
                        "gridcolor": "white",
                        "gridwidth": 2,
                        "linecolor": "white",
                        "showbackground": true,
                        "ticks": "",
                        "zerolinecolor": "white"
                      }
                    },
                    "shapedefaults": {
                      "line": {
                        "color": "#2a3f5f"
                      }
                    },
                    "ternary": {
                      "aaxis": {
                        "gridcolor": "white",
                        "linecolor": "white",
                        "ticks": ""
                      },
                      "baxis": {
                        "gridcolor": "white",
                        "linecolor": "white",
                        "ticks": ""
                      },
                      "bgcolor": "#E5ECF6",
                      "caxis": {
                        "gridcolor": "white",
                        "linecolor": "white",
                        "ticks": ""
                      }
                    },
                    "title": {
                      "x": 0.05
                    },
                    "xaxis": {
                      "automargin": true,
                      "gridcolor": "white",
                      "linecolor": "white",
                      "ticks": "",
                      "title": {
                        "standoff": 15
                      },
                      "zerolinecolor": "white",
                      "zerolinewidth": 2
                    },
                    "yaxis": {
                      "automargin": true,
                      "gridcolor": "white",
                      "linecolor": "white",
                      "ticks": "",
                      "title": {
                        "standoff": 15
                      },
                      "zerolinecolor": "white",
                      "zerolinewidth": 2
                    }
                  }
                },
                "title": {
                  "text": "Ratio of purchase"
                },
                "width": 700
              }
            }
          },
          "metadata": {},
          "output_type": "display_data"
        }
      ],
      "source": [
        "fig2 = px.pie(\n",
        "    data_frame=count_tutorial_attempts_df,\n",
        "    values='purchase',\n",
        "    names='tutorial_attempts',\n",
        "    height=500,\n",
        "    width=700,\n",
        "    title='Ratio of purchase'\n",
        ")\n",
        "fig2.show()"
      ]
    },
    {
      "cell_type": "markdown",
      "metadata": {
        "id": "9BbNUaDrKLul"
      },
      "source": [
        "Вывод: попытки пройти обучение положительно вляиет на вероятность покупки платных вопросов, 98.6% пользователей совершие покупку платных вопросов начинали обучение хотя бы раз. Количество попыток обучения не влияет на вероятность покупки, 75.4% купили платный пакет полсе первого обучения, далее с увеличением колличества попыток наблюдается снижения доли из общего числа пользователей совершивших покупку."
      ]
    },
    {
      "cell_type": "markdown",
      "metadata": {
        "id": "vTSdf2OWKLul"
      },
      "source": [
        "# Проверка гипотезы 3.\n",
        "\n",
        "***Если пользователь сначала выбирает сложность обучения, будет ли он потом проходить обучение?***\n",
        "\n",
        "Выясним, как часто пользователи начинают обучение после выбора уровня сложности."
      ]
    },
    {
      "cell_type": "code",
      "execution_count": null,
      "metadata": {
        "id": "xLZbY4IxKLul"
      },
      "outputs": [],
      "source": [
        "# Создадим два датафрема с событием начала обучения(tutorial_start_df) и изменением уровня сложности(level_choice_df),\n",
        "# переименуем столбцы с одинакомыми названиями\n",
        "tutorial_start_df = events_df[events_df['event_type']=='tutorial_start'].rename(columns={'event_datetime':'tutorial_start_datetime'})\n",
        "level_choice_df = events_df[events_df['event_type']=='level_choice'].rename(columns={'event_datetime':'level_choice_datetime'})\n",
        "\n",
        "#Объединими датафреймы.\n",
        "focus_group_df = pd.merge(level_choice_df, tutorial_start_df, on='user_id')"
      ]
    },
    {
      "cell_type": "code",
      "execution_count": null,
      "metadata": {
        "id": "lH_du0RWKLum"
      },
      "outputs": [],
      "source": [
        "#Добавим столбец timedelta с разницей во времен от начала обучения изменения уровня сложности\n",
        "focus_group_df['timedelta'] = (focus_group_df['tutorial_start_datetime']-focus_group_df['level_choice_datetime'])\n",
        "#Оставим тольке тех кто начал обучение после изменения уровеня, а так же сбросим индексы датафрейма\n",
        "focus_group_df = focus_group_df[focus_group_df.timedelta>pd.Timedelta(0)].reset_index(drop=True)"
      ]
    },
    {
      "cell_type": "code",
      "execution_count": null,
      "metadata": {
        "id": "wKPGcEGMKLum",
        "outputId": "6f1be8dd-c806-4d16-e924-2805ed48be67"
      },
      "outputs": [
        {
          "data": {
            "text/plain": [
              "16.6"
            ]
          },
          "execution_count": 272,
          "metadata": {},
          "output_type": "execute_result"
        }
      ],
      "source": [
        "#Посчитаем долю пользователей, которые прошли обучение после выбора уровня сложности\n",
        "round(((focus_group_df.user_id.nunique()/level_choice_df.user_id.nunique()) * 100), 1)"
      ]
    },
    {
      "cell_type": "markdown",
      "metadata": {
        "id": "B8RY0WH9KLun"
      },
      "source": [
        "Вывод: пользователи хорошо понимают работу с приложением, после выбора уровня сложности к обучению обратилось 16.6% от тех кто выбрал уровень сложности"
      ]
    }
  ],
  "metadata": {
    "kernelspec": {
      "display_name": "Python 3.9.10 64-bit",
      "language": "python",
      "name": "python3"
    },
    "language_info": {
      "codemirror_mode": {
        "name": "ipython",
        "version": 3
      },
      "file_extension": ".py",
      "mimetype": "text/x-python",
      "name": "python",
      "nbconvert_exporter": "python",
      "pygments_lexer": "ipython3",
      "version": "3.9.10"
    },
    "orig_nbformat": 4,
    "vscode": {
      "interpreter": {
        "hash": "67f563924f754d06570cd894dc1c5c0c788e7816bf323e039f257e6d12ecb681"
      }
    },
    "colab": {
      "provenance": []
    }
  },
  "nbformat": 4,
  "nbformat_minor": 0
}